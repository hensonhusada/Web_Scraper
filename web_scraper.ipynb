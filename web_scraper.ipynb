{
 "cells": [
  {
   "cell_type": "code",
   "execution_count": 14,
   "metadata": {},
   "outputs": [],
   "source": [
    "from bs4 import BeautifulSoup\n",
    "import requests\n",
    "import pandas as pd"
   ]
  },
  {
   "cell_type": "code",
   "execution_count": 15,
   "metadata": {},
   "outputs": [],
   "source": [
    "titles = []\n",
    "years = []\n",
    "time = []\n",
    "imdb_ratings = []\n",
    "metascore = []\n",
    "votes = []\n",
    "us_gross = []"
   ]
  },
  {
   "cell_type": "code",
   "execution_count": 16,
   "metadata": {},
   "outputs": [],
   "source": [
    "base_url = \"https://www.imdb.com\"\n",
    "second_url = \"/search/title/?groups=top_1000\"\n",
    "headers = {\"Accept-Language\" : \"en-US, en;q=0.5\"}"
   ]
  },
  {
   "cell_type": "code",
   "execution_count": 17,
   "metadata": {},
   "outputs": [
    {
     "name": "stdout",
     "output_type": "stream",
     "text": [
      "No More url\n"
     ]
    }
   ],
   "source": [
    "while True:\n",
    "    url = base_url + second_url\n",
    "    results = requests.get(url, headers=headers)\n",
    "    soup = BeautifulSoup(results.text, \"html.parser\")\n",
    "\n",
    "    movie_div = soup.find_all('div', class_='lister-item mode-advanced')\n",
    "\n",
    "    for container in movie_div:\n",
    "        #name\n",
    "        name = container.h3.a.text\n",
    "        titles.append(name)\n",
    "        \n",
    "        #year\n",
    "        year = container.h3.find('span', class_='lister-item-year').text\n",
    "        years.append(year)\n",
    "        \n",
    "        #runtime\n",
    "        runtime = container.find('span', class_='runtime').text if container.p.find('span', class_='runtime') else '-'\n",
    "        time.append(runtime)\n",
    "        \n",
    "        #IMDB rating\n",
    "        imdb = float(container.strong.text)\n",
    "        imdb_ratings.append(imdb)\n",
    "        \n",
    "        #metascore\n",
    "        meta = container.find('span', class_='metascore').text if container.find('span', class_='metascore') else '-'\n",
    "        metascore.append(meta)\n",
    "        \n",
    "        #votes and grosses\n",
    "        nv = container.find_all('span', attrs={'name':'nv'})\n",
    "        vote = nv[0].text\n",
    "        votes.append(vote)\n",
    "        grosses = nv[1].text if len(nv)>1 else '-'\n",
    "        us_gross.append(grosses)\n",
    "        \n",
    "    try:\n",
    "        second_url = soup.find('a', class_='lister-page-next').get('href')\n",
    "    except:\n",
    "        print('No More url')\n",
    "        break"
   ]
  },
  {
   "cell_type": "code",
   "execution_count": 18,
   "metadata": {},
   "outputs": [],
   "source": [
    "movies = pd.DataFrame({\n",
    "'movie':titles,\n",
    "'year':years,\n",
    "'timeMin':time,\n",
    "'imdb':imdb_ratings,\n",
    "'metascore':metascore,\n",
    "'votes':votes,\n",
    "'us_grossMillions':us_gross,\n",
    "})"
   ]
  },
  {
   "cell_type": "code",
   "execution_count": 22,
   "metadata": {},
   "outputs": [
    {
     "data": {
      "text/plain": [
       "movie                object\n",
       "year                 object\n",
       "timeMin              object\n",
       "imdb                float64\n",
       "metascore            object\n",
       "votes                object\n",
       "us_grossMillions     object\n",
       "dtype: object"
      ]
     },
     "execution_count": 22,
     "metadata": {},
     "output_type": "execute_result"
    }
   ],
   "source": [
    "movies.dtypes"
   ]
  },
  {
   "cell_type": "code",
   "execution_count": 42,
   "metadata": {},
   "outputs": [
    {
     "data": {
      "text/plain": [
       "movie                object\n",
       "year                  int32\n",
       "timeMin               int32\n",
       "imdb                float64\n",
       "metascore           float64\n",
       "votes                 int32\n",
       "us_grossMillions    float64\n",
       "dtype: object"
      ]
     },
     "execution_count": 42,
     "metadata": {},
     "output_type": "execute_result"
    }
   ],
   "source": [
    "# movies['year'] = movies['year'].str.extract('(\\d+)').astype(int)\n",
    "# movies['timeMin'] = movies['timeMin'].str.extract('(\\d+)').astype(int)\n",
    "# movies['metascore'] = pd.to_numeric(movies['metascore'], errors='coerce')\n",
    "# movies['votes'] = movies['votes'].str.replace(',','').astype(int)\n",
    "# movies['us_grossMillions'] = movies['us_grossMillions'].map(lambda x: x.lstrip('$').rstrip('M'))\n",
    "# movies['us_grossMillions'] = pd.to_numeric(movies['us_grossMillions'], errors='coerce')\n",
    "movies.dtypes"
   ]
  }
 ],
 "metadata": {
  "interpreter": {
   "hash": "8ed06d07b9ff369db6ed7b53447be18709da67cd911d838d72fee7fecb26667a"
  },
  "kernelspec": {
   "display_name": "Python 3.10.2 64-bit",
   "language": "python",
   "name": "python3"
  },
  "language_info": {
   "codemirror_mode": {
    "name": "ipython",
    "version": 3
   },
   "file_extension": ".py",
   "mimetype": "text/x-python",
   "name": "python",
   "nbconvert_exporter": "python",
   "pygments_lexer": "ipython3",
   "version": "3.10.2"
  },
  "orig_nbformat": 4
 },
 "nbformat": 4,
 "nbformat_minor": 2
}
