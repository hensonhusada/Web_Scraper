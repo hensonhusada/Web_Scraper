{
 "cells": [
  {
   "cell_type": "code",
   "execution_count": 130,
   "metadata": {},
   "outputs": [],
   "source": [
    "from bs4 import BeautifulSoup as bs\n",
    "import requests\n",
    "import os\n",
    "import pandas as pd\n",
    "import datetime"
   ]
  },
  {
   "cell_type": "code",
   "execution_count": 131,
   "metadata": {},
   "outputs": [],
   "source": [
    "headers = {\n",
    "    \"User-Agent\": \"Mozilla/5.0 (Linux; Android 6.0; Nexus 5 Build/MRA58N) AppleWebKit/537.36 (KHTML, like Gecko) Chrome/97.0.4692.71 Mobile Safari/537.36\",\n",
    "    \"Accept-Language\": \"en-US,en;q=0.9,id;q=0.8,ms;q=0.7,ja;q=0.6,ko;q=0.5\"\n",
    "    }\n",
    "base_url = 'https://www.psychologytoday.com/intl/blog-posts?page='"
   ]
  },
  {
   "cell_type": "code",
   "execution_count": 135,
   "metadata": {},
   "outputs": [
    {
     "name": "stdout",
     "output_type": "stream",
     "text": [
      "[WinError 183] Cannot create a file when that file already exists: 'd:\\\\Henson\\\\Iseng Development\\\\Web Scraper\\\\venv\\\\web_scraper\\\\psyco_htmls\\\\'\n"
     ]
    }
   ],
   "source": [
    "cwd = os.getcwd()\n",
    "directory = cwd + '\\psyco_htmls\\\\'\n",
    "try:\n",
    "    os.mkdir(directory)\n",
    "except Exception as e:\n",
    "    print(e)\n",
    "    \n",
    "#Write some texts to html in htmls folder\n",
    "\n",
    "def write_to_html(directory, text:str, order):\n",
    "    file_name = f\"{directory}/page{order}.html\"\n",
    "    with open(file_name, 'w', encoding='utf-8') as f:\n",
    "        f.write(text)"
   ]
  },
  {
   "cell_type": "code",
   "execution_count": 133,
   "metadata": {},
   "outputs": [],
   "source": [
    "#Scrap website and then save the result to seperate html files for each page\n",
    "pages = 10 #pages to scrap\n",
    "for i in range(pages):\n",
    "    url = base_url + str(i) #URL plus query to get different pages\n",
    "    cap_data = requests.get(url, headers=headers)\n",
    "    write_to_html(directory, cap_data.text, i+1)"
   ]
  },
  {
   "cell_type": "code",
   "execution_count": 136,
   "metadata": {},
   "outputs": [],
   "source": [
    "# Get all html files in folder htmls into a list\n",
    "scrap_files = os.listdir(directory)"
   ]
  },
  {
   "cell_type": "code",
   "execution_count": 137,
   "metadata": {},
   "outputs": [],
   "source": [
    "# Run beautifulsoup for html files and return the object\n",
    "def beautify(file):\n",
    "    with open(file, 'r', encoding='utf-8') as f:\n",
    "        html_text = f.read()\n",
    "    # print(html_text)\n",
    "    return bs(html_text, 'html.parser') # return soup\n",
    "\n",
    "# Extract data from soup and return the result as dictionaries\n",
    "def extract_info_from_soup(soup: bs):\n",
    "    results = []\n",
    "    containers = soup.find_all('div', class_='blog_entry__text')\n",
    "    for content in containers:\n",
    "        results.append({\n",
    "            'title': content.h2.a.text,\n",
    "            'genre': content.h6.text,\n",
    "            'publisher': content.p.a.text,\n",
    "            'publishdate': content.p.text,\n",
    "            'magazine': content.p.find_all('a')[1].text,\n",
    "            'url': 'psychologytoday.com' + content.h2.a['href']\n",
    "        })\n",
    "    return results"
   ]
  },
  {
   "cell_type": "code",
   "execution_count": 138,
   "metadata": {},
   "outputs": [],
   "source": [
    "# List of all dictionaries containing the extracted data for each entry\n",
    "list_result = []\n",
    "\n",
    "# for each html file, get the data\n",
    "for scrap in scrap_files:\n",
    "    soup = beautify(directory + scrap)\n",
    "    list_result += extract_info_from_soup(soup)\n",
    "    "
   ]
  },
  {
   "cell_type": "code",
   "execution_count": 139,
   "metadata": {},
   "outputs": [
    {
     "data": {
      "text/plain": [
       "title          object\n",
       "genre          object\n",
       "publisher      object\n",
       "publishdate    object\n",
       "magazine       object\n",
       "url            object\n",
       "dtype: object"
      ]
     },
     "execution_count": 139,
     "metadata": {},
     "output_type": "execute_result"
    }
   ],
   "source": [
    "uncleaned_data = pd.DataFrame(list_result)\n",
    "uncleaned_data.dtypes\n"
   ]
  },
  {
   "cell_type": "code",
   "execution_count": 140,
   "metadata": {},
   "outputs": [],
   "source": [
    "uncleaned_data['publishdate'] = uncleaned_data['publishdate'].str.extract('([A-Za-z]\\w+ [0-9]\\d{0,1}, [0-9]\\d{3})').replace(',','')\n",
    "uncleaned_data['publishdate'] = uncleaned_data['publishdate'].str.replace(',','')\n",
    "uncleaned_data['publishdate'] = pd.to_datetime(uncleaned_data['publishdate'])"
   ]
  },
  {
   "cell_type": "code",
   "execution_count": 116,
   "metadata": {},
   "outputs": [],
   "source": [
    "# uncleaned_data.to_excel('psyco.xlsx')\n",
    "uncleaned_data.to_csv('psyco.csv')"
   ]
  }
 ],
 "metadata": {
  "interpreter": {
   "hash": "8ed06d07b9ff369db6ed7b53447be18709da67cd911d838d72fee7fecb26667a"
  },
  "kernelspec": {
   "display_name": "Python 3.10.2 64-bit",
   "language": "python",
   "name": "python3"
  },
  "language_info": {
   "codemirror_mode": {
    "name": "ipython",
    "version": 3
   },
   "file_extension": ".py",
   "mimetype": "text/x-python",
   "name": "python",
   "nbconvert_exporter": "python",
   "pygments_lexer": "ipython3",
   "version": "3.10.2"
  },
  "orig_nbformat": 4
 },
 "nbformat": 4,
 "nbformat_minor": 2
}
